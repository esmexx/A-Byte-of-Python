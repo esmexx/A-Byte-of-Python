{
 "cells": [
  {
   "cell_type": "markdown",
   "metadata": {},
   "source": [
    "### Backup files"
   ]
  },
  {
   "cell_type": "code",
   "execution_count": 1,
   "metadata": {
    "collapsed": false
   },
   "outputs": [
    {
     "name": "stdout",
     "output_type": "stream",
     "text": [
      "Successful backup to backup\\20180711232035.zip\n"
     ]
    }
   ],
   "source": [
    "import os\n",
    "import time\n",
    "\n",
    "# 1. The files and directories to be backed up are specified in a list.\n",
    "# source = r'txt files\\*.txt'\n",
    "source = 'txt files'\n",
    "\n",
    "# 2. The backup must be stored in a main backup directory\n",
    "target_dir = 'backup'\n",
    "\n",
    "# 3. The files are backed up into a zip file.\n",
    "# 4. The name of the zip archive is the current date and time\n",
    "target = target_dir + os.sep + time.strftime('%Y%m%d%H%M%S') + '.zip'\n",
    "\n",
    "# Create target directory if it is not present\n",
    "if not os.path.exists(target_dir):\n",
    "    os.mkdir(target_dir)\n",
    "\n",
    "# 5. We use the 7-zip command to put the files in a zip archive\n",
    "zip_command = r'7z a -r {} \"{}\"'.format(target, source) # need to have 7z.exe in the directory\n",
    "\n",
    "if os.system(zip_command) == 0:\n",
    "    print('Successful backup to', target)\n",
    "else:\n",
    "    print('Backup FAILED')"
   ]
  },
  {
   "cell_type": "markdown",
   "metadata": {},
   "source": [
    "### Better file-naming mechanim"
   ]
  },
  {
   "cell_type": "code",
   "execution_count": 2,
   "metadata": {
    "collapsed": false
   },
   "outputs": [
    {
     "name": "stdout",
     "output_type": "stream",
     "text": [
      "Successful backup to backup\\20180711\\232035.zip\n"
     ]
    }
   ],
   "source": [
    "# 1. The files and directories to be backed up are specified in a list.\n",
    "# source = r'txt files\\*.txt'\n",
    "source = 'txt files'\n",
    "\n",
    "# 2. The backup must be stored in a main backup directory\n",
    "target_dir = 'backup'\n",
    "\n",
    "# 3. The files are backed up into a zip file.\n",
    "# 4. The name of the zip archive is the current date and time\n",
    "today = target_dir + os.sep + time.strftime('%Y%m%d') \n",
    "now = time.strftime('%H%M%S')\n",
    "\n",
    "target = today + os.sep + now + '.zip'\n",
    "\n",
    "# Create target directory if it is not present\n",
    "if not os.path.exists(target_dir):\n",
    "    os.mkdir(target_dir)\n",
    "    \n",
    "if not os.path.exists(today):\n",
    "    os.mkdir(today)\n",
    "    \n",
    "# 5. We use the 7-zip command to put the files in a zip archive\n",
    "zip_command = r'7z a -r {} \"{}\"'.format(target, source) # need to have 7z.exe in the directory\n",
    "\n",
    "if os.system(zip_command) == 0:\n",
    "    print('Successful backup to', target)\n",
    "else:\n",
    "    print('Backup FAILED')"
   ]
  },
  {
   "cell_type": "markdown",
   "metadata": {},
   "source": [
    "### Allow user-specified names"
   ]
  },
  {
   "cell_type": "code",
   "execution_count": 3,
   "metadata": {
    "collapsed": false
   },
   "outputs": [
    {
     "name": "stdout",
     "output_type": "stream",
     "text": [
      "Enter a comment --> my file 1\n",
      "Successful backup to backup\\20180711\\232035_my_file_1.zip\n"
     ]
    }
   ],
   "source": [
    "# 1. The files and directories to be backed up are specified in a list.\n",
    "# source = r'txt files\\*.txt'\n",
    "source = 'txt files'\n",
    "\n",
    "# 2. The backup must be stored in a main backup directory\n",
    "target_dir = 'backup'\n",
    "\n",
    "# 3. The files are backed up into a zip file.\n",
    "# 4. The name of the zip archive is the current date and time\n",
    "today = target_dir + os.sep + time.strftime('%Y%m%d') \n",
    "now = time.strftime('%H%M%S')\n",
    "\n",
    "# Create target directory if it is not present\n",
    "if not os.path.exists(target_dir):\n",
    "    os.mkdir(target_dir)\n",
    "    \n",
    "if not os.path.exists(today):\n",
    "    os.mkdir(today)\n",
    "\n",
    "# Take a comment from the user to create the name of the zip file\n",
    "comment = input('Enter a comment --> ')\n",
    "if len(comment) == 0:\n",
    "    target = today + os.sep + now + '.zip'\n",
    "else:\n",
    "    target = today + os.sep + now + '_' + \\\n",
    "    comment.replace(' ', '_') + '.zip' # the logical line continues in the next physical line by the backslash\n",
    "\n",
    "# 5. We use the 7-zip command to put the files in a zip archive\n",
    "zip_command = r'7z a -r {} \"{}\"'.format(target, source) # need to have 7z.exe in the directory\n",
    "\n",
    "if os.system(zip_command) == 0:\n",
    "    print('Successful backup to', target)\n",
    "else:\n",
    "    print('Backup FAILED')"
   ]
  }
 ],
 "metadata": {
  "kernelspec": {
   "display_name": "Python 3",
   "language": "python",
   "name": "python3"
  },
  "language_info": {
   "codemirror_mode": {
    "name": "ipython",
    "version": 3
   },
   "file_extension": ".py",
   "mimetype": "text/x-python",
   "name": "python",
   "nbconvert_exporter": "python",
   "pygments_lexer": "ipython3",
   "version": "3.5.2"
  }
 },
 "nbformat": 4,
 "nbformat_minor": 0
}
